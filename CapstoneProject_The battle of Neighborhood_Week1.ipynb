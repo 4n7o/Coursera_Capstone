{
 "cells": [
  {
   "cell_type": "markdown",
   "metadata": {},
   "source": [
    "# Coursera Capstone Project - The Battle of Neighborhoods - Week 1\n",
    "\n"
   ]
  },
  {
   "cell_type": "markdown",
   "metadata": {},
   "source": [
    "This Coursera Capstone Project aims to apply data science to find a solution to a business problem."
   ]
  },
  {
   "cell_type": "markdown",
   "metadata": {},
   "source": [
    "## Description of the project and discussion of the background"
   ]
  },
  {
   "cell_type": "markdown",
   "metadata": {},
   "source": [
    "The founders of a small business based in the neighborhood 'Parco Nord', one of the peripherical neighborhood of the italian northern city of Milan, are witnessing an explosion in their activities and are no longer able to meet the ever-increasing demand of their customers.\n",
    "Eager to expand by opening a second location, they are stuck in the phase of choosing the perfect place. An accurate analysis of the current customer base, highlights that a key factor of the ongoing success is the peculiar urban environment, made of sport fields, shops, restaurants, by which the current location is surrounded. The client's need is to be able to meet a customer base as similar as possible to the original one. Which areas of Milan are most similar to 'Parco Nord' in terms of inhabitants' and visitors lifestyle? Applying machine learning techniques, we are going to segment and cluster the city, trying to find out similarities and dissimilarities among its 84 neighborhoods."
   ]
  },
  {
   "cell_type": "markdown",
   "metadata": {},
   "source": [
    "## Description and use of the data"
   ]
  },
  {
   "cell_type": "markdown",
   "metadata": {},
   "source": [
    "### The sources of all the data used in this work are:"
   ]
  },
  {
   "cell_type": "markdown",
   "metadata": {},
   "source": [
    "1) Open data by the city of Milan, dowloadable at the following link:\n",
    "https://dati.comune.milano.it/dataset/ds634-numeri-civici-coordinate\n",
    "(Creative Commons Public Domain Dedication CC0 1.0)."
   ]
  },
  {
   "cell_type": "markdown",
   "metadata": {},
   "source": [
    "Regularly updated, this dataset is a comprehensive and extremely reliable source of information related to each building in the city of Milan, with street, house number and related postal code, state of the house, neighborhood and geographical coordinates."
   ]
  },
  {
   "cell_type": "markdown",
   "metadata": {},
   "source": [
    "In this db, every building is associated to his exact position. Grouping buildings by neighborhood, we calculate the mean of geographical coordinates, in order to obtain the position of the centroid of each area.\n"
   ]
  },
  {
   "cell_type": "markdown",
   "metadata": {},
   "source": [
    "2) Foursquare database, freely accessible with a developer account: \n",
    "https://developer.foursquare.com\n"
   ]
  },
  {
   "cell_type": "markdown",
   "metadata": {},
   "source": [
    "### Starting from Foursquare venues for each neighborhood, and the geographical coordinates of their centroids, we are going to show a methodology to cluster and segment a city, in order to identify areas that are similar and dissimilar, from the point of view of the habits of its population."
   ]
  },
  {
   "cell_type": "markdown",
   "metadata": {},
   "source": [
    "The Foursquare db is constantly changing, so running the code in different moments, can lead to a different output. The example proposed illustrates a methodology and its meant to be only a starting point for a complete and exhaustive solution to a real business problem. "
   ]
  },
  {
   "cell_type": "code",
   "execution_count": null,
   "metadata": {},
   "outputs": [],
   "source": []
  }
 ],
 "metadata": {
  "kernelspec": {
   "display_name": "Python",
   "language": "python",
   "name": "conda-env-python-py"
  },
  "language_info": {
   "codemirror_mode": {
    "name": "ipython",
    "version": 3
   },
   "file_extension": ".py",
   "mimetype": "text/x-python",
   "name": "python",
   "nbconvert_exporter": "python",
   "pygments_lexer": "ipython3",
   "version": "3.6.11"
  }
 },
 "nbformat": 4,
 "nbformat_minor": 4
}
