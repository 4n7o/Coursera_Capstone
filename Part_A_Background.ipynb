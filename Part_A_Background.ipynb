{
 "cells": [
  {
   "cell_type": "markdown",
   "metadata": {},
   "source": [
    "## Introduction/Business Problem\n",
    "### A description of the problem and a discussion of the background.\n",
    "\n",
    "The aim of this work is to offer a data driven insight for a specific business problem: find the perfect location for a new opening.\n",
    "\n",
    "**1) Introduction**\n",
    "\n",
    "A perfect business model can lead a company to great achievements. For the success of a business offering a face-to-face customer experience, one of the elements to take into consideration defining the business model is the geographical position of the local store. Every business is interconnected with its context, so the context represents itself a more or less determining factor of success. The peculiar urban environment, made of restaurants, offices, shops, sport fields, by which the brick-and-mortar business is surrounded, is the perfect combination of elements that attracts people from all over the city. From this assumption arises the importance of mapping the city into distinct clusters based on the type of public places and the different attractions present in their territory. Within each cluster, we expect to find the same patchwork of businesses and public places in general.\n",
    "\n",
    "**2) Business problem**\n",
    "\n",
    "The **target audience** of this analysis is every owner of a successful local store, facing the difficulty of choosing the perfect location for a new opening. Wanting to meet a customer base as similar as possible to the one that determined the ongoing success, our client needs to have a map that shows similarities and differencies among neighborhoods of the city, regarding inhabitants and visitors habits.  \n",
    "The example proposed illustrates a methodology and its meant to be a starting point for a complete and exhaustive solution to a real business problem.\n",
    "**Example**: our clients, the founders of a small business, based in the neighborhood 'Parco Nord', one of the peripherical neighborhood of the italian northern city of Milan, are witnessing an explosion in their activities and are no longer able to meet the ever-increasing demand of their customers.\n",
    "Eager to expand by opening a second location, replicating the existing business model, they are stuck in the phase of choosing an area of the city, having the same kind of places of interest to people. \n",
    "In order the identify the best areas, among the 84 neighborhoods of the city, our first exploratory step is the clusterization and segmentation of the city, using machine learning techniques on Foursquare database of venues. The location data extracted from Foursqaure give a realistic representation of the habits of people frequenting public places. At this point we go ahead with the clusterization of the city, using a basic clustering algorithm. Having identified neighborhoods laying in the same cluster, we highly restrict the range of possible choices. After that process, all the appropriate marketing analysis, such as analysis of comtetitors, costs, etc., will be much more easily performed.\n",
    "\n",
    "\n"
   ]
  },
  {
   "cell_type": "code",
   "execution_count": null,
   "metadata": {},
   "outputs": [],
   "source": []
  }
 ],
 "metadata": {
  "kernelspec": {
   "display_name": "Python",
   "language": "python",
   "name": "conda-env-python-py"
  },
  "language_info": {
   "codemirror_mode": {
    "name": "ipython",
    "version": 3
   },
   "file_extension": ".py",
   "mimetype": "text/x-python",
   "name": "python",
   "nbconvert_exporter": "python",
   "pygments_lexer": "ipython3",
   "version": "3.6.11"
  }
 },
 "nbformat": 4,
 "nbformat_minor": 4
}
