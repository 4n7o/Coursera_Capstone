{
 "cells": [
  {
   "cell_type": "markdown",
   "metadata": {},
   "source": [
    "## Description and use of the data\n",
    "### The sources of all the data used in this work are:\n",
    "\n",
    "**1) Foursquare database**, freely accessible with a developer account: \n",
    "https://developer.foursquare.com\n",
    "For our analysis we need to access to a great amount of reliable data about the attendence by the population to the various catogories of public places. This need can be easily met by accessing the Foursquare archives.  \n",
    "After providing the coordinates of the Milan districts, from the database query we will obtain a json file containing precise information on the venues of the city. \n",
    "\n",
    "**2) Open data by the city of Milan**, dowloadable at the following link:\n",
    "https://dati.comune.milano.it/dataset/ds634-numeri-civici-coordinate\n",
    "(Creative Commons Public Domain Dedication CC0 1.0).  \n",
    "Regularly updated, this dataset is a comprehensive and extremely reliable source of information related to each building in the city of Milan, with street, house number and related postal code, state of the house, neighborhood and geographical coordinates.  \n",
    "In this db, every building is associated to his exact position. Grouping buildings by neighborhood, we calculate the mean of geographical coordinates, in order to obtain the position of the centroid of each area.\n",
    "\n",
    "### Starting from Foursquare venues for each neighborhood, and the geographical coordinates of their centroids, we are going to show a methodology to cluster and segment a city, in order to identify areas that are similar and dissimilar, from the point of view of the habits of its population, relating to the attendence of public places."
   ]
  },
  {
   "cell_type": "code",
   "execution_count": null,
   "metadata": {},
   "outputs": [],
   "source": []
  }
 ],
 "metadata": {
  "kernelspec": {
   "display_name": "Python",
   "language": "python",
   "name": "conda-env-python-py"
  },
  "language_info": {
   "codemirror_mode": {
    "name": "ipython",
    "version": 3
   },
   "file_extension": ".py",
   "mimetype": "text/x-python",
   "name": "python",
   "nbconvert_exporter": "python",
   "pygments_lexer": "ipython3",
   "version": "3.6.11"
  }
 },
 "nbformat": 4,
 "nbformat_minor": 4
}
